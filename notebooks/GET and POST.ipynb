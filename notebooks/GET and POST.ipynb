{
 "cells": [
  {
   "cell_type": "code",
   "execution_count": 25,
   "metadata": {},
   "outputs": [],
   "source": [
    "from pymongo import MongoClient\n",
    "import requests"
   ]
  },
  {
   "cell_type": "markdown",
   "metadata": {},
   "source": [
    "## First, we can try some GET requests to see if this stuff works fine!"
   ]
  },
  {
   "cell_type": "code",
   "execution_count": 26,
   "metadata": {},
   "outputs": [
    {
     "data": {
      "text/plain": [
       "[{'name': 'murraysm',\n",
       "  'text': '@AmericanAir No snow in St. Louis. Cold but no snow. Hub flights welcome.'}]"
      ]
     },
     "execution_count": 26,
     "metadata": {},
     "output_type": "execute_result"
    }
   ],
   "source": [
    "# This displays the name and tweets that this person posted, the search is always via username:\n",
    "\n",
    "url_tweet = \"http://localhost:5000/tweets/murraysm\"\n",
    "data = requests.get(url_tweet).json()\n",
    "data"
   ]
  },
  {
   "cell_type": "code",
   "execution_count": 27,
   "metadata": {
    "scrolled": true
   },
   "outputs": [
    {
     "data": {
      "text/plain": [
       "[{'airline': 'United', 'name': 'lisahsamuel'}]"
      ]
     },
     "execution_count": 27,
     "metadata": {},
     "output_type": "execute_result"
    }
   ],
   "source": [
    "# This displays the airline that the user took:\n",
    "\n",
    "url_airline = \"http://localhost:5000/airline/lisahsamuel\"\n",
    "data = requests.get(url_airline).json()\n",
    "data"
   ]
  },
  {
   "cell_type": "code",
   "execution_count": 28,
   "metadata": {},
   "outputs": [
    {
     "data": {
      "text/plain": [
       "[{'name': 'lisahsamuel', 'tweet_location': 'Bellingham, WA'}]"
      ]
     },
     "execution_count": 28,
     "metadata": {},
     "output_type": "execute_result"
    }
   ],
   "source": [
    "# This one displays the location of the person who tweeted, probably the location from where the tweet was sent at\n",
    "# that moment:\n",
    "\n",
    "url_location = \"http://localhost:5000/location/lisahsamuel\"\n",
    "data = requests.get(url_location).json()\n",
    "data"
   ]
  },
  {
   "cell_type": "code",
   "execution_count": 29,
   "metadata": {},
   "outputs": [
    {
     "data": {
      "text/plain": [
       "[{'negativereason': 'Late Flight',\n",
       "  'name': 'cubexg',\n",
       "  'text': '@AmericanAir stuck at gate Miami to JFK flight 1510. Are we going to get out of here tonight? Very frustrating'}]"
      ]
     },
     "execution_count": 29,
     "metadata": {},
     "output_type": "execute_result"
    }
   ],
   "source": [
    "# This displays the reason why the person tweeted out to the airline, also its username and the tweet to give some context:\n",
    "\n",
    "url_reason = \"http://localhost:5000/reason/cubexg\"\n",
    "data = requests.get(url_reason).json()\n",
    "data"
   ]
  },
  {
   "cell_type": "code",
   "execution_count": 30,
   "metadata": {},
   "outputs": [
    {
     "data": {
      "text/plain": [
       "\"Text input and name: [{'name': 'cubexg', 'text': '@AmericanAir stuck at gate Miami to JFK flight 1510. Are we going to get out of here tonight? Very frustrating'}] The sentiment analysis shows: {'neg': 0.224, 'neu': 0.776, 'pos': 0.0, 'compound': -0.6361}\""
      ]
     },
     "execution_count": 30,
     "metadata": {},
     "output_type": "execute_result"
    }
   ],
   "source": [
    "# And this one analyzes the positivity/neutrality/negativity of the tweet, to know more or less what was the emotion\n",
    "# and intention of the person who tweeted:\n",
    "\n",
    "url_sentiment = \"http://localhost:5000/sentiment/cubexg\"\n",
    "data = requests.get(url_sentiment).json()\n",
    "data"
   ]
  },
  {
   "cell_type": "markdown",
   "metadata": {},
   "source": [
    "## Now, let's try some POST requests!"
   ]
  },
  {
   "cell_type": "code",
   "execution_count": null,
   "metadata": {},
   "outputs": [],
   "source": []
  },
  {
   "cell_type": "code",
   "execution_count": null,
   "metadata": {},
   "outputs": [],
   "source": [
    "tweet ="
   ]
  },
  {
   "cell_type": "code",
   "execution_count": 31,
   "metadata": {},
   "outputs": [],
   "source": [
    "url = \"http://localhost:5000/newtweet\""
   ]
  },
  {
   "cell_type": "code",
   "execution_count": null,
   "metadata": {},
   "outputs": [],
   "source": [
    "requests.post(url, data=tweet)"
   ]
  }
 ],
 "metadata": {
  "kernelspec": {
   "display_name": "Python 3",
   "language": "python",
   "name": "python3"
  },
  "language_info": {
   "codemirror_mode": {
    "name": "ipython",
    "version": 3
   },
   "file_extension": ".py",
   "mimetype": "text/x-python",
   "name": "python",
   "nbconvert_exporter": "python",
   "pygments_lexer": "ipython3",
   "version": "3.8.5"
  }
 },
 "nbformat": 4,
 "nbformat_minor": 4
}
